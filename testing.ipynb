{
 "cells": [
  {
   "cell_type": "code",
   "execution_count": 1,
   "metadata": {},
   "outputs": [
    {
     "name": "stdout",
     "output_type": "stream",
     "text": [
      "  FictionId                                        Description  \\\n",
      "0         3                                                      \n",
      "1        22  <p>Jason Walker was nothing. His family was an...   \n",
      "2        23                                                      \n",
      "3        25  <p>A somewhat spoiled rich kid enters Royal Ro...   \n",
      "4        28  This fanfic may be removed at the convenience ...   \n",
      "\n",
      "                                        FirstChapter  \n",
      "0  Jessica glared at the screen. The newest game,...  \n",
      "1  “So, who knows when the second world war start...  \n",
      "2  By Creepaz (nice name, right? heehee)<br />Pro...  \n",
      "3  Necromancer<br />A Royal Road Fan Fiction<br /...  \n",
      "4  <p>For a devoted gamer, balanced skill system ...  \n"
     ]
    }
   ],
   "source": [
    "import pandas as pd\n",
    "\n",
    "# Replace 'Fictions.csv' with the actual path to your CSV file\n",
    "csv_file_path = 'Fictions.csv'\n",
    "\n",
    "# Load the CSV file into a Pandas DataFrame\n",
    "df = pd.read_csv(csv_file_path)\n",
    "\n",
    "# Now you can work with the DataFrame 'df'\n",
    "print(df.head())"
   ]
  },
  {
   "cell_type": "code",
   "execution_count": 31,
   "metadata": {},
   "outputs": [
    {
     "name": "stdout",
     "output_type": "stream",
     "text": [
      "<p>Roderick 'Matt' Matheson; a soldier born in a world of peace yet haunted by the memories of the dead. A tear opens in his world swallowing dozens of innocents and introducing him to a world of chaos and magic. Armed with the latest of military technology and intense training Matt is one of the few soldiers trusted with a recovery mission to not only recover the lost civilians but also to make contact with the inhabitants of this new world. That was the plan at least, but things rarely go according to plan in a world born of chaos.</p>\n"
     ]
    }
   ],
   "source": [
    "# print the desription of the 10th row \n",
    "\n",
    "print(df.iloc[5000]['Description'])"
   ]
  },
  {
   "cell_type": "code",
   "execution_count": null,
   "metadata": {},
   "outputs": [],
   "source": []
  }
 ],
 "metadata": {
  "kernelspec": {
   "display_name": "Python 3",
   "language": "python",
   "name": "python3"
  },
  "language_info": {
   "codemirror_mode": {
    "name": "ipython",
    "version": 3
   },
   "file_extension": ".py",
   "mimetype": "text/x-python",
   "name": "python",
   "nbconvert_exporter": "python",
   "pygments_lexer": "ipython3",
   "version": "3.10.12"
  },
  "orig_nbformat": 4
 },
 "nbformat": 4,
 "nbformat_minor": 2
}
